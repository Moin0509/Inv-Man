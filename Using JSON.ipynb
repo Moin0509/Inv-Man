{
 "cells": [
  {
   "cell_type": "code",
   "execution_count": 2,
   "id": "4fd818e0",
   "metadata": {},
   "outputs": [],
   "source": [
    "record={1001:{'Name':'5 star','Price':5,'Qn':200},\n",
    "       1002:{'Name':'Milky Bar','Price':10,'Qn':100},\n",
    "       1003:{'Name':'Candy','Price':2,'Qn':500},\n",
    "       1004:{'Name':'Choclate Cake','Price':5,'Qn':350},\n",
    "       1005:{'Name':'Vanilla Cake','Price':5,'Qn':300}\n",
    "       }"
   ]
  },
  {
   "cell_type": "code",
   "execution_count": 3,
   "id": "53a46287",
   "metadata": {},
   "outputs": [
    {
     "data": {
      "text/plain": [
       "{1001: {'Name': '5 star', 'Price': 5, 'Qn': 200},\n",
       " 1002: {'Name': 'Milky Bar', 'Price': 10, 'Qn': 100},\n",
       " 1003: {'Name': 'Candy', 'Price': 2, 'Qn': 500},\n",
       " 1004: {'Name': 'Choclate Cake', 'Price': 5, 'Qn': 350},\n",
       " 1005: {'Name': 'Vanilla Cake', 'Price': 5, 'Qn': 300}}"
      ]
     },
     "execution_count": 3,
     "metadata": {},
     "output_type": "execute_result"
    }
   ],
   "source": [
    "record"
   ]
  },
  {
   "cell_type": "code",
   "execution_count": 4,
   "id": "c4d3bc39",
   "metadata": {},
   "outputs": [
    {
     "data": {
      "text/plain": [
       "{'Name': '5 star', 'Price': 5, 'Qn': 200}"
      ]
     },
     "execution_count": 4,
     "metadata": {},
     "output_type": "execute_result"
    }
   ],
   "source": [
    "record[1001]"
   ]
  },
  {
   "cell_type": "code",
   "execution_count": 5,
   "id": "78884c4f",
   "metadata": {},
   "outputs": [
    {
     "data": {
      "text/plain": [
       "'5 star'"
      ]
     },
     "execution_count": 5,
     "metadata": {},
     "output_type": "execute_result"
    }
   ],
   "source": [
    "record[1001]['Name']"
   ]
  },
  {
   "cell_type": "code",
   "execution_count": 8,
   "id": "5559cf66",
   "metadata": {},
   "outputs": [
    {
     "name": "stdout",
     "output_type": "stream",
     "text": [
      "-----------------MENU-----------------\n",
      "\n",
      "1001 : 5 star | 5 | 200\n",
      "1002 : Milky Bar | 10 | 100\n",
      "1003 : Candy | 2 | 500\n",
      "1004 : Choclate Cake | 5 | 350\n",
      "1005 : Vanilla Cake | 5 | 300\n",
      "--------------------------------------\n",
      "Enter Product id : 1001\n",
      "Enter Product Quantity : 5\n",
      "\n",
      "-----------------BILL-----------------\n",
      "1\n",
      "Product Name         5 star\n",
      "Price of Product     5\n",
      "Quantity             5\n",
      "--------------------------------------\n",
      "Billing Amount       25\n",
      "--------------------------------------\n"
     ]
    }
   ],
   "source": [
    "print(\"-----------------MENU-----------------\\n\")\n",
    "\n",
    "for key in record.keys():\n",
    "    print(key,\":\",record[key]['Name'],\"|\",record[key]['Price'],\"|\",record[key]['Qn'])\n",
    "\n",
    "print(\"--------------------------------------\")\n",
    "\n",
    "u_pid=int(input(\"Enter Product id : \"))\n",
    "u_qn =int(input(\"Enter Product Quantity : \"))\n",
    "\n",
    "record[u_pid]['Qn'] -= u_qn\n",
    "\n",
    "print(\"\\n-----------------BILL-----------------\\n1\")\n",
    "\n",
    "print(\"Product Name        \",record[u_pid]['Name'])\n",
    "print(\"Price of Product    \",record[u_pid]['Price'])\n",
    "print(\"Quantity            \",u_qn)\n",
    "\n",
    "print(\"--------------------------------------\")\n",
    "\n",
    "print(\"Billing Amount      \",record[u_pid]['Price']*u_qn)\n",
    "print(\"--------------------------------------\")"
   ]
  },
  {
   "cell_type": "code",
   "execution_count": 9,
   "id": "79b44f37",
   "metadata": {},
   "outputs": [
    {
     "data": {
      "text/plain": [
       "{1001: {'Name': '5 star', 'Price': 5, 'Qn': 195},\n",
       " 1002: {'Name': 'Milky Bar', 'Price': 10, 'Qn': 100},\n",
       " 1003: {'Name': 'Candy', 'Price': 2, 'Qn': 500},\n",
       " 1004: {'Name': 'Choclate Cake', 'Price': 5, 'Qn': 350},\n",
       " 1005: {'Name': 'Vanilla Cake', 'Price': 5, 'Qn': 300}}"
      ]
     },
     "execution_count": 9,
     "metadata": {},
     "output_type": "execute_result"
    }
   ],
   "source": [
    "record"
   ]
  },
  {
   "cell_type": "markdown",
   "id": "0c1ac0d7",
   "metadata": {},
   "source": [
    "## again the same problem occurs i.e; the inventory is not getting updated so we need help of JSON"
   ]
  },
  {
   "cell_type": "code",
   "execution_count": 10,
   "id": "073fc16f",
   "metadata": {},
   "outputs": [],
   "source": [
    "#import json"
   ]
  },
  {
   "cell_type": "code",
   "execution_count": 12,
   "id": "ee936d09",
   "metadata": {},
   "outputs": [
    {
     "name": "stdout",
     "output_type": "stream",
     "text": [
      "{\"1001\": {\"Name\": \"5 star\", \"Price\": 5, \"Qn\": 195}, \"1002\": {\"Name\": \"Milky Bar\", \"Price\": 10, \"Qn\": 100}, \"1003\": {\"Name\": \"Candy\", \"Price\": 2, \"Qn\": 500}, \"1004\": {\"Name\": \"Choclate Cake\", \"Price\": 5, \"Qn\": 350}, \"1005\": {\"Name\": \"Vanilla Cake\", \"Price\": 5, \"Qn\": 300}}\n"
     ]
    }
   ],
   "source": [
    "js=json.dumps(record)\n",
    "print(js)"
   ]
  },
  {
   "cell_type": "code",
   "execution_count": 13,
   "id": "4cecd46a",
   "metadata": {},
   "outputs": [],
   "source": [
    "#adding into a json file\n",
    "fd=open(\"Records.json\",'w')\n",
    "fd.write(js)\n",
    "fd.close()"
   ]
  },
  {
   "cell_type": "code",
   "execution_count": 19,
   "id": "e2c766d1",
   "metadata": {},
   "outputs": [
    {
     "name": "stdout",
     "output_type": "stream",
     "text": [
      "-----------------MENU-----------------\n",
      "\n",
      "1001 : 5 star | 5 | 200\n",
      "1002 : Milky Bar | 10 | 100\n",
      "1003 : Candy | 2 | 500\n",
      "1004 : Choclate Cake | 5 | 350\n",
      "1005 : Vanilla Cake | 5 | 300\n",
      "--------------------------------------\n",
      "Enter Product id : 1001\n",
      "Enter Product Quantity : 5\n",
      "\n",
      "-----------------BILL-----------------\n",
      "1\n",
      "Product Name         5 star\n",
      "Price of Product     5\n",
      "Quantity             5\n",
      "--------------------------------------\n",
      "Billing Amount       25\n",
      "--------------------------------------\n"
     ]
    }
   ],
   "source": [
    "import json #already done above\n",
    "record={1001:{'Name':'5 star','Price':5,'Qn':200},\n",
    "       1002:{'Name':'Milky Bar','Price':10,'Qn':100},\n",
    "       1003:{'Name':'Candy','Price':2,'Qn':500},\n",
    "       1004:{'Name':'Choclate Cake','Price':5,'Qn':350},\n",
    "       1005:{'Name':'Vanilla Cake','Price':5,'Qn':300}\n",
    "       }\n",
    "\n",
    "print(\"-----------------MENU-----------------\\n\")\n",
    "\n",
    "for key in record.keys():\n",
    "    print(key,\":\",record[key]['Name'],\"|\",record[key]['Price'],\"|\",record[key]['Qn'])\n",
    "\n",
    "print(\"--------------------------------------\")\n",
    "\n",
    "u_pid=int(input(\"Enter Product id : \"))\n",
    "u_qn =int(input(\"Enter Product Quantity : \"))\n",
    "\n",
    "record[u_pid]['Qn'] -= u_qn\n",
    "\n",
    "print(\"\\n-----------------BILL-----------------\\n1\")\n",
    "\n",
    "print(\"Product Name        \",record[u_pid]['Name'])\n",
    "print(\"Price of Product    \",record[u_pid]['Price'])\n",
    "print(\"Quantity            \",u_qn)\n",
    "\n",
    "print(\"--------------------------------------\")\n",
    "\n",
    "print(\"Billing Amount      \",record[u_pid]['Price']*u_qn)\n",
    "print(\"--------------------------------------\")\n",
    "\n",
    "js=json.dumps(record)\n",
    "\n",
    "fd=open(\"Records.json\",'w')\n",
    "fd.write(js)\n",
    "fd.close()"
   ]
  },
  {
   "cell_type": "markdown",
   "id": "eee36dee",
   "metadata": {},
   "source": [
    "## in above the problem is that inventory is getting full whenever we run the program we must need to update our main record with the data in the json file"
   ]
  },
  {
   "cell_type": "code",
   "execution_count": 20,
   "id": "91f8c5bc",
   "metadata": {},
   "outputs": [
    {
     "data": {
      "text/plain": [
       "'{\"1001\": {\"Name\": \"5 star\", \"Price\": 5, \"Qn\": 195}, \"1002\": {\"Name\": \"Milky Bar\", \"Price\": 10, \"Qn\": 100}, \"1003\": {\"Name\": \"Candy\", \"Price\": 2, \"Qn\": 500}, \"1004\": {\"Name\": \"Choclate Cake\", \"Price\": 5, \"Qn\": 350}, \"1005\": {\"Name\": \"Vanilla Cake\", \"Price\": 5, \"Qn\": 300}}'"
      ]
     },
     "execution_count": 20,
     "metadata": {},
     "output_type": "execute_result"
    }
   ],
   "source": [
    "js"
   ]
  },
  {
   "cell_type": "code",
   "execution_count": 22,
   "id": "7353c083",
   "metadata": {},
   "outputs": [],
   "source": [
    "fd = open(\"Records.json\",'r')\n",
    "js=fd.read()\n",
    "fd.close()"
   ]
  },
  {
   "cell_type": "code",
   "execution_count": 23,
   "id": "31f2a3ff",
   "metadata": {},
   "outputs": [
    {
     "data": {
      "text/plain": [
       "{'1001': {'Name': '5 star', 'Price': 5, 'Qn': 195},\n",
       " '1002': {'Name': 'Milky Bar', 'Price': 10, 'Qn': 100},\n",
       " '1003': {'Name': 'Candy', 'Price': 2, 'Qn': 500},\n",
       " '1004': {'Name': 'Choclate Cake', 'Price': 5, 'Qn': 350},\n",
       " '1005': {'Name': 'Vanilla Cake', 'Price': 5, 'Qn': 300}}"
      ]
     },
     "execution_count": 23,
     "metadata": {},
     "output_type": "execute_result"
    }
   ],
   "source": [
    "#converts back the string to a dictionary\n",
    "json.loads(js)"
   ]
  },
  {
   "cell_type": "code",
   "execution_count": 24,
   "id": "a8dd3d53",
   "metadata": {},
   "outputs": [
    {
     "data": {
      "text/plain": [
       "{1001: {'Name': '5 star', 'Price': 5, 'Qn': 195},\n",
       " 1002: {'Name': 'Milky Bar', 'Price': 10, 'Qn': 100},\n",
       " 1003: {'Name': 'Candy', 'Price': 2, 'Qn': 500},\n",
       " 1004: {'Name': 'Choclate Cake', 'Price': 5, 'Qn': 350},\n",
       " 1005: {'Name': 'Vanilla Cake', 'Price': 5, 'Qn': 300}}"
      ]
     },
     "execution_count": 24,
     "metadata": {},
     "output_type": "execute_result"
    }
   ],
   "source": [
    "record"
   ]
  },
  {
   "cell_type": "code",
   "execution_count": 1,
   "id": "7bf9be25",
   "metadata": {},
   "outputs": [
    {
     "name": "stdout",
     "output_type": "stream",
     "text": [
      "----------------------MENU----------------------\n",
      "\n",
      "1001 : 5 star | 5 | 93\n",
      "1002 : Milky Bar | 10 | 88\n",
      "1003 : Candy | 2 | 400\n",
      "1004 : Choclate Cake | 5 | 350\n",
      "1005 : Vanilla Cake | 5 | 300\n",
      "------------------------------------------------\n",
      "Enter Product id : 1001\n",
      "Enter Product Quantity : 2\n",
      "\n",
      "----------------------BILL----------------------\n",
      "\n",
      "Product Name         5 star\n",
      "Price of Product     5\n",
      "Quantity             2\n",
      "------------------------------------------------\n",
      "Billing Amount       10\n",
      "------------------------------------------------\n",
      "\n",
      "------------------------------------------------\n",
      "  Thankyou for your Order, Inventory Updated!!!  \n",
      "------------------------------------------------\n"
     ]
    }
   ],
   "source": [
    "import json #already done above\n",
    "\n",
    "fd = open(\"Records.json\",'r')\n",
    "js=fd.read()\n",
    "fd.close()\n",
    "\n",
    "record= json.loads(js)\n",
    "\n",
    "print(\"----------------------MENU----------------------\\n\")\n",
    "\n",
    "for key in record.keys():\n",
    "    print(key,\":\",record[key]['Name'],\"|\",record[key]['Price'],\"|\",record[key]['Qn'])\n",
    "\n",
    "print(\"------------------------------------------------\")\n",
    "\n",
    "u_pid=str(input(\"Enter Product id : \"))#took as string bcoz it got updated as string in json file\n",
    "u_qn =int(input(\"Enter Product Quantity : \"))\n",
    "\n",
    "record[u_pid]['Qn'] -= u_qn\n",
    "\n",
    "print(\"\\n----------------------BILL----------------------\\n\")\n",
    "\n",
    "print(\"Product Name        \",record[u_pid]['Name'])\n",
    "print(\"Price of Product    \",record[u_pid]['Price'])\n",
    "print(\"Quantity            \",u_qn)\n",
    "\n",
    "print(\"------------------------------------------------\")\n",
    "\n",
    "print(\"Billing Amount      \",record[u_pid]['Price']*u_qn)\n",
    "print(\"------------------------------------------------\")\n",
    "\n",
    "js=json.dumps(record)\n",
    "\n",
    "fd=open(\"Records.json\",'w')\n",
    "fd.write(js)\n",
    "fd.close()\n",
    "\n",
    "print(\"\\n------------------------------------------------\")\n",
    "print(\"  Thankyou for your Order, Inventory Updated!!!  \")\n",
    "print(\"------------------------------------------------\")\n"
   ]
  },
  {
   "cell_type": "code",
   "execution_count": 2,
   "id": "936fcbac",
   "metadata": {},
   "outputs": [
    {
     "data": {
      "text/plain": [
       "{'1001': {'Name': '5 star', 'Price': 5, 'Qn': 91},\n",
       " '1002': {'Name': 'Milky Bar', 'Price': 10, 'Qn': 88},\n",
       " '1003': {'Name': 'Candy', 'Price': 2, 'Qn': 400},\n",
       " '1004': {'Name': 'Choclate Cake', 'Price': 5, 'Qn': 350},\n",
       " '1005': {'Name': 'Vanilla Cake', 'Price': 5, 'Qn': 300}}"
      ]
     },
     "execution_count": 2,
     "metadata": {},
     "output_type": "execute_result"
    }
   ],
   "source": [
    "record"
   ]
  },
  {
   "cell_type": "markdown",
   "id": "23f3de87",
   "metadata": {},
   "source": [
    "## Adding functionalities "
   ]
  },
  {
   "cell_type": "code",
   "execution_count": 3,
   "id": "1a2d6d67",
   "metadata": {},
   "outputs": [
    {
     "data": {
      "text/plain": [
       "{'1001': {'Name': '5 star', 'Price': 5, 'Qn': -4},\n",
       " '1002': {'Name': 'Milky Bar', 'Price': 10, 'Qn': 88},\n",
       " '1003': {'Name': 'Candy', 'Price': 2, 'Qn': 400},\n",
       " '1004': {'Name': 'Choclate Cake', 'Price': 5, 'Qn': 350},\n",
       " '1005': {'Name': 'Vanilla Cake', 'Price': 5, 'Qn': 300}}"
      ]
     },
     "execution_count": 3,
     "metadata": {},
     "output_type": "execute_result"
    }
   ],
   "source": [
    "record"
   ]
  },
  {
   "cell_type": "code",
   "execution_count": 1,
   "id": "f320b5e8",
   "metadata": {},
   "outputs": [
    {
     "name": "stdout",
     "output_type": "stream",
     "text": [
      "----------------------MENU----------------------\n",
      "\n",
      "1001 : 5 star | 5 | 100\n",
      "1002 : Milky Bar | 10 | 100\n",
      "1003 : Candy | 2 | 200\n",
      "1004 : Choclate Cake | 350 | 15\n",
      "1005 : Vanilla Cake | 300 | 10\n",
      "------------------------------------------------\n",
      "Enter Product id : 1003\n",
      "Enter Product Quantity : 2\n",
      "\n",
      "----------------------BILL----------------------\n",
      "\n",
      "Product Name         Candy\n",
      "Price of Product     2\n",
      "Quantity             2\n",
      "------------------------------------------------\n",
      "Billing Amount       4\n",
      "------------------------------------------------\n",
      "\n",
      "------------------------------------------------\n",
      "  Thankyou for your Order, Inventory Updated!!!  \n",
      "------------------------------------------------\n"
     ]
    }
   ],
   "source": [
    "import json #already done above\n",
    "\n",
    "fd = open(\"Records.json\",'r')\n",
    "js=fd.read()\n",
    "fd.close()\n",
    "\n",
    "record= json.loads(js)\n",
    "\n",
    "print(\"----------------------MENU----------------------\\n\")\n",
    "\n",
    "for key in record.keys():\n",
    "    print(key,\":\",record[key]['Name'],\"|\",record[key]['Price'],\"|\",record[key]['Qn'])\n",
    "\n",
    "print(\"------------------------------------------------\")\n",
    "\n",
    "u_pid=str(input(\"Enter Product id : \"))#took as string bcoz it got updated as string in json file\n",
    "u_qn =int(input(\"Enter Product Quantity : \"))\n",
    "\n",
    "    \n",
    "if (record[u_pid][\"Qn\"]>=u_qn):\n",
    "    print(\"\\n----------------------BILL----------------------\\n\")\n",
    "    print(\"Product Name        \",record[u_pid]['Name'])\n",
    "    print(\"Price of Product    \",record[u_pid]['Price'])\n",
    "    print(\"Quantity            \",u_qn)\n",
    "    print(\"------------------------------------------------\")\n",
    "    print(\"Billing Amount      \",record[u_pid]['Price']*u_qn)\n",
    "    print(\"------------------------------------------------\")\n",
    "    \n",
    "    record[u_pid]['Qn'] -= u_qn\n",
    "    \n",
    "else:\n",
    "    print(\"Sorry! we are only having \",record[u_pid]['Qn'],\" of product\")\n",
    "    print('Would you like to Purchase it ?')\n",
    "    \n",
    "    ch=str(input(\"Press Y/N : \"))\n",
    "    \n",
    "    if ch=='Y' or ch=='y':\n",
    "        print(\"\\n----------------------BILL----------------------\\n\")\n",
    "        print(\"Product Name        \",record[u_pid]['Name'])\n",
    "        print(\"Price of Product    \",record[u_pid]['Price'])\n",
    "        print(\"Quantity            \",record[u_pid]['Qn'])\n",
    "        print(\"------------------------------------------------\")\n",
    "        print(\"Billing Amount      \",record[u_pid]['Price']*record[u_pid]['Qn'])\n",
    "        print(\"------------------------------------------------\")\n",
    "        \n",
    "        record[u_pid]['Qn']=0\n",
    "    else:\n",
    "        print(\"Thanks for Coming...\")\n",
    "    \n",
    "\n",
    "js=json.dumps(record)\n",
    "\n",
    "fd=open(\"Records.json\",'w')\n",
    "fd.write(js)\n",
    "fd.close()\n",
    "\n",
    "print(\"\\n------------------------------------------------\")\n",
    "print(\"  Thankyou for your Order, Inventory Updated!!!  \")\n",
    "print(\"------------------------------------------------\")\n"
   ]
  },
  {
   "cell_type": "markdown",
   "id": "0b40e942",
   "metadata": {},
   "source": [
    "## Generating sales structure\n"
   ]
  },
  {
   "cell_type": "code",
   "execution_count": null,
   "id": "da632242",
   "metadata": {},
   "outputs": [],
   "source": []
  },
  {
   "cell_type": "code",
   "execution_count": 27,
   "id": "52deaf40",
   "metadata": {},
   "outputs": [
    {
     "name": "stdout",
     "output_type": "stream",
     "text": [
      "----------------------MENU----------------------\n",
      "\n",
      "1001 : 5 star | 5 | 0\n",
      "1002 : Milky Bar | 10 | 0\n",
      "1003 : Candy | 2 | 90\n",
      "1004 : Choclate Cake | 350 | 4\n",
      "1005 : Vanilla Cake | 300 | 0\n",
      "------------------------------------------------\n",
      "Enter Your Name : mkff\n",
      "Enter Your Phone Number : 014\n",
      "Enter Your Email Id : 01\n",
      "Enter Product id : 1003\n",
      "Enter Product Quantity : 1000\n",
      "Sorry! we are only having  90  of product\n",
      "Would you like to Purchase it ?\n",
      "Press Y/N : y\n",
      "\n",
      "----------------------BILL----------------------\n",
      "\n",
      "Product Name         Candy\n",
      "Price of Product     2\n",
      "Quantity             90\n",
      "------------------------------------------------\n",
      "Billing Amount       180\n",
      "------------------------------------------------\n",
      "\n",
      "------------------------------------------------\n",
      "  Thankyou for your Order, Inventory Updated!!!  \n",
      "------------------------------------------------\n"
     ]
    }
   ],
   "source": [
    "#Importing Libraries\n",
    "import json #already done above\n",
    "import time\n",
    "\n",
    "sale=''\n",
    "\n",
    "#reading the stock/records from json to strings\n",
    "fd = open(\"Records.json\",'r')\n",
    "js=fd.read()\n",
    "fd.close()\n",
    "\n",
    "#Converting string record to JSON/Dictionary\n",
    "record= json.loads(js)\n",
    "\n",
    "#Displaying Menu\n",
    "print(\"----------------------MENU----------------------\\n\")\n",
    "\n",
    "for key in record.keys():\n",
    "    print(key,\":\",record[key]['Name'],\"|\",record[key]['Price'],\"|\",record[key]['Qn'])\n",
    "\n",
    "print(\"------------------------------------------------\")\n",
    "\n",
    "#Taking User Credentials about the purchase..\n",
    "u_name=str(input(\"Enter Your Name : \"))\n",
    "u_no=str(input(\"Enter Your Phone Number : \"))\n",
    "u_id=str(input(\"Enter Your Email Id : \"))\n",
    "u_pid=str(input(\"Enter Product id : \"))#took as string bcoz it got updated as string in json file\n",
    "u_qn =int(input(\"Enter Product Quantity : \"))\n",
    "\n",
    "#if we are having equal or more quaantity than what user wants..   \n",
    "if (record[u_pid][\"Qn\"]>=u_qn):\n",
    "    print(\"\\n----------------------BILL----------------------\\n\")\n",
    "    print(\"Product Name        \",record[u_pid]['Name'])\n",
    "    print(\"Price of Product    \",record[u_pid]['Price'])\n",
    "    print(\"Quantity            \",u_qn)\n",
    "    print(\"------------------------------------------------\")\n",
    "    print(\"Billing Amount      \",record[u_pid]['Price']*u_qn)\n",
    "    print(\"------------------------------------------------\")\n",
    "    \n",
    "    #updating quantity  record dictionary\n",
    "    record[u_pid]['Qn'] -= u_qn\n",
    "    \n",
    "    #Generating Sales structure\n",
    "    sale= u_name+','+u_no+','+u_id+','+u_pid+','+record[u_pid][\"Name\"]+','+str(u_qn)+','+str(record[u_pid]['Price'])+','+str(record[u_pid]['Price']*u_qn)+','+time.ctime()+'\\n'\n",
    "\n",
    "#if we are low with the quantity than ask user he wants it or not\n",
    "else:\n",
    "    print(\"Sorry! we are only having \",record[u_pid]['Qn'],\" of product\")\n",
    "    print('Would you like to Purchase it ?')\n",
    "    \n",
    "    ch=str(input(\"Press Y/N : \"))\n",
    "    \n",
    "    #if user wants then generate bill\n",
    "    if ch=='Y' or ch=='y':\n",
    "        print(\"\\n----------------------BILL----------------------\\n\")\n",
    "        print(\"Product Name        \",record[u_pid]['Name'])\n",
    "        print(\"Price of Product    \",record[u_pid]['Price'])\n",
    "        print(\"Quantity            \",record[u_pid]['Qn'])\n",
    "        print(\"------------------------------------------------\")\n",
    "        print(\"Billing Amount      \",record[u_pid]['Price']*record[u_pid]['Qn'])\n",
    "        print(\"------------------------------------------------\")\n",
    "        \n",
    "        #generate sales structure\n",
    "        sale= u_name+','+u_no+','+u_id+','+u_pid+','+record[u_pid][\"Name\"]+','+str(record[u_pid]['Qn'])+','+str(record[u_pid]['Price'])+','+str(record[u_pid]['Price']*record[u_pid]['Qn'])+','+time.ctime()+'\\n'\n",
    "        \n",
    "        #if he purchases then quantity = 0\n",
    "        record[u_pid]['Qn']=0\n",
    "    #if he doesn't wants it    \n",
    "    else:\n",
    "        print(\"Thanks for Coming...\")\n",
    "    \n",
    "#Converting dictionary to string..\n",
    "js=json.dumps(record)\n",
    "\n",
    "#writing the records in records.json file\n",
    "fd=open(\"Records.json\",'w')\n",
    "fd.write(js)\n",
    "fd.close()\n",
    "\n",
    "#appending the sales detial in sales2.csv\n",
    "fd=open(\"Sales2.csv\",'a')\n",
    "fd.write(sale)\n",
    "fd.close()\n",
    "\n",
    "#appending the sales detial in sales.txt\n",
    "fd=open(\"Sales.txt\",'a')\n",
    "fd.write(sale)\n",
    "fd.close()\n",
    "\n",
    "print(\"\\n------------------------------------------------\")\n",
    "print(\"  Thankyou for your Order, Inventory Updated!!!  \")\n",
    "print(\"------------------------------------------------\")\n"
   ]
  },
  {
   "cell_type": "code",
   "execution_count": 25,
   "id": "ae7e59b2",
   "metadata": {},
   "outputs": [
    {
     "data": {
      "text/plain": [
       "'mk6,1404144,160,1005,Vanilla Cake,4,300,1200,Mon Jun  5 12:07:31 2023\\n'"
      ]
     },
     "execution_count": 25,
     "metadata": {},
     "output_type": "execute_result"
    }
   ],
   "source": [
    "sale"
   ]
  },
  {
   "cell_type": "code",
   "execution_count": 15,
   "id": "c4a4460a",
   "metadata": {},
   "outputs": [],
   "source": []
  },
  {
   "cell_type": "code",
   "execution_count": null,
   "id": "f18fc798",
   "metadata": {},
   "outputs": [],
   "source": []
  }
 ],
 "metadata": {
  "kernelspec": {
   "display_name": "Python 3 (ipykernel)",
   "language": "python",
   "name": "python3"
  },
  "language_info": {
   "codemirror_mode": {
    "name": "ipython",
    "version": 3
   },
   "file_extension": ".py",
   "mimetype": "text/x-python",
   "name": "python",
   "nbconvert_exporter": "python",
   "pygments_lexer": "ipython3",
   "version": "3.9.7"
  }
 },
 "nbformat": 4,
 "nbformat_minor": 5
}
