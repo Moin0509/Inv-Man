{
 "cells": [
  {
   "cell_type": "code",
   "execution_count": 4,
   "id": "395882ac",
   "metadata": {},
   "outputs": [],
   "source": [
    "fd=open(\"Inv.txt\",'r')\n",
    "products=fd.read().split(\"\\n\")\n",
    "fd.close()"
   ]
  },
  {
   "cell_type": "code",
   "execution_count": 5,
   "id": "98ebe4ad",
   "metadata": {},
   "outputs": [
    {
     "data": {
      "text/plain": [
       "['1,5 star,5,100', '2,Milky Bar,5,100', '3,Cake,300,5', '4,Candy,1,200']"
      ]
     },
     "execution_count": 5,
     "metadata": {},
     "output_type": "execute_result"
    }
   ],
   "source": [
    "products"
   ]
  },
  {
   "cell_type": "code",
   "execution_count": 6,
   "id": "7880acc4",
   "metadata": {},
   "outputs": [
    {
     "name": "stdout",
     "output_type": "stream",
     "text": [
      "1,5 star,5,100\n",
      "['1', '5 star', '5', '100']\n",
      "2,Milky Bar,5,100\n",
      "['2', 'Milky Bar', '5', '100']\n",
      "3,Cake,300,5\n",
      "['3', 'Cake', '300', '5']\n",
      "4,Candy,1,200\n",
      "['4', 'Candy', '1', '200']\n"
     ]
    }
   ],
   "source": [
    "for prod in products:\n",
    "    print(prod)\n",
    "    print(prod.split(','))"
   ]
  },
  {
   "cell_type": "code",
   "execution_count": 7,
   "id": "9b94b24f",
   "metadata": {},
   "outputs": [
    {
     "name": "stdout",
     "output_type": "stream",
     "text": [
      "1,5 star,5,100\n",
      "2,Milky Bar,5,100\n",
      "3,Cake,300,5\n",
      "4,Candy,1,200\n"
     ]
    }
   ],
   "source": [
    "for i in products:\n",
    "    print(i)"
   ]
  },
  {
   "cell_type": "code",
   "execution_count": 8,
   "id": "18c2e23f",
   "metadata": {},
   "outputs": [
    {
     "name": "stdout",
     "output_type": "stream",
     "text": [
      "Enter Product Id: 4\n",
      "['4', 'Candy', '1', '200']\n"
     ]
    }
   ],
   "source": [
    "u_prod_id=input(\"Enter Product Id: \")\n",
    "for i in products:\n",
    "    if (i.split(',')[0]==u_prod_id):\n",
    "        print(i.split(','))"
   ]
  },
  {
   "cell_type": "markdown",
   "id": "c3836202",
   "metadata": {},
   "source": [
    "## Basic Inventory"
   ]
  },
  {
   "cell_type": "code",
   "execution_count": 16,
   "id": "e9dea5b7",
   "metadata": {},
   "outputs": [
    {
     "name": "stdout",
     "output_type": "stream",
     "text": [
      "Enter the product id: 1\n",
      "Enter the Quantity  : 0\n",
      "-----------------------------------------\n",
      "Product Name           : 5 star\n",
      "Product Price          : 5\n",
      "Product Quantity       : 0\n",
      "-----------------------------------------\n",
      "Billing Amount         : 0\n",
      "-----------------------------------------\n",
      "Inventory Updated Successfully...\n",
      "\n",
      "['1', '5 star', '5', '100']\n",
      "Inventory Updated Successfully...\n",
      "\n",
      "['2', 'Milky Bar', '5', '100']\n",
      "Inventory Updated Successfully...\n",
      "\n",
      "['3', 'Cake', '300', '5']\n",
      "Inventory Updated Successfully...\n",
      "\n",
      "['4', 'Candy', '1', '200']\n"
     ]
    }
   ],
   "source": [
    "u_prod_id=input(\"Enter the product id: \")\n",
    "u_prod_qn=input(\"Enter the Quantity  : \")\n",
    "\n",
    "for product in products:\n",
    "    \n",
    "    prod_details=product.split(\",\")\n",
    "    \n",
    "    if prod_details[0]==u_prod_id:\n",
    "        print(\"-----------------------------------------\")\n",
    "        print(\"Product Name           :\",prod_details[1])\n",
    "        print(\"Product Price          :\",prod_details[2])\n",
    "        print(\"Product Quantity       :\",u_prod_qn)\n",
    "        print(\"-----------------------------------------\")\n",
    "        print(\"Billing Amount         :\",int(u_prod_qn)*int(prod_details[2]))\n",
    "        print(\"-----------------------------------------\")\n",
    "        \n",
    "        prod_details[3]=str(int(prod_details[3])-int(u_prod_qn))\n",
    "    print(\"Inventory Updated Successfully...\\n\")\n",
    "    print(prod_details)\n",
    "        "
   ]
  },
  {
   "cell_type": "raw",
   "id": "a0e46e07",
   "metadata": {},
   "source": [
    "# above issue was it was again and again making the stack full to 100\n",
    "# so we need to update it into the file by saving it first in a list\n",
    "# the solution is below\n"
   ]
  },
  {
   "cell_type": "code",
   "execution_count": 17,
   "id": "502a25e8",
   "metadata": {},
   "outputs": [
    {
     "name": "stdout",
     "output_type": "stream",
     "text": [
      "Enter the product id: 1\n",
      "Enter the Quantity  : 5\n",
      "-----------------------------------------\n",
      "Product Name           : 5 star\n",
      "Product Price          : 5\n",
      "Product Quantity       : 5\n",
      "-----------------------------------------\n",
      "Billing Amount         : 25\n",
      "-----------------------------------------\n"
     ]
    }
   ],
   "source": [
    "u_prod_id=input(\"Enter the product id: \")\n",
    "u_prod_qn=input(\"Enter the Quantity  : \")\n",
    "updated_prod_list=[]\n",
    "\n",
    "for product in products:\n",
    "    \n",
    "    prod_details=product.split(\",\")\n",
    "    \n",
    "    if prod_details[0]==u_prod_id:\n",
    "        print(\"-----------------------------------------\")\n",
    "        print(\"Product Name           :\",prod_details[1])\n",
    "        print(\"Product Price          :\",prod_details[2])\n",
    "        print(\"Product Quantity       :\",u_prod_qn)\n",
    "        print(\"-----------------------------------------\")\n",
    "        print(\"Billing Amount         :\",int(u_prod_qn)*int(prod_details[2]))\n",
    "        print(\"-----------------------------------------\")\n",
    "        \n",
    "        prod_details[3]=str(int(prod_details[3])-int(u_prod_qn))\n",
    "    updated_prod_list.append(prod_details)"
   ]
  },
  {
   "cell_type": "code",
   "execution_count": 18,
   "id": "0832e97c",
   "metadata": {},
   "outputs": [
    {
     "name": "stdout",
     "output_type": "stream",
     "text": [
      "1,5 star,5,100\n",
      "2,Milky Bar,5,100\n",
      "3,Cake,300,5\n",
      "4,Candy,1,200\n"
     ]
    }
   ],
   "source": [
    "for i in products:\n",
    "    print(i)"
   ]
  },
  {
   "cell_type": "code",
   "execution_count": 20,
   "id": "f7ffb7c7",
   "metadata": {},
   "outputs": [
    {
     "name": "stdout",
     "output_type": "stream",
     "text": [
      "1,5 star,5,95\n",
      "2,Milky Bar,5,100\n",
      "3,Cake,300,5\n",
      "4,Candy,1,200\n"
     ]
    }
   ],
   "source": [
    "for i in updated_prod_list:\n",
    "    prod=i[0]+\",\"+i[1]+\",\"+i[2]+\",\"+i[3]\n",
    "    print(prod)"
   ]
  },
  {
   "cell_type": "code",
   "execution_count": 22,
   "id": "fa28cf70",
   "metadata": {},
   "outputs": [],
   "source": [
    "fd=open(\"Inv.txt\",'w')\n",
    "for i in updated_prod_list:\n",
    "    prod=i[0]+\",\"+i[1]+\",\"+i[2]+\",\"+i[3]+'\\n'\n",
    "    fd.write(prod)\n",
    "\n",
    "fd.close()\n"
   ]
  },
  {
   "cell_type": "markdown",
   "id": "bd0e2d00",
   "metadata": {},
   "source": [
    "## We made it now lets combine all the code to make final code\n",
    "## Inventory Management System"
   ]
  },
  {
   "cell_type": "code",
   "execution_count": 30,
   "id": "c517c946",
   "metadata": {},
   "outputs": [
    {
     "name": "stdout",
     "output_type": "stream",
     "text": [
      "Enter the product id: 1\n",
      "Enter the Quantity  : 5\n",
      "-----------------------------------------\n",
      "Product Name           : 5 star\n",
      "Product Price          : 5\n",
      "Product Quantity       : 5\n",
      "-----------------------------------------\n",
      "Billing Amount         : 25\n",
      "-----------------------------------------\n"
     ]
    }
   ],
   "source": [
    "fd=open(\"Inv.txt\",'r')\n",
    "products=fd.read().split(\"\\n\")\n",
    "fd.close()\n",
    "\n",
    "u_prod_id=input(\"Enter the product id: \")\n",
    "u_prod_qn=input(\"Enter the Quantity  : \")\n",
    "updated_prod_list=[]\n",
    "\n",
    "for product in products:\n",
    "    \n",
    "    prod_details=product.split(\",\")\n",
    "    \n",
    "    if prod_details[0]==u_prod_id:\n",
    "        print(\"-----------------------------------------\")\n",
    "        print(\"Product Name           :\",prod_details[1])\n",
    "        print(\"Product Price          :\",prod_details[2])\n",
    "        print(\"Product Quantity       :\",u_prod_qn)\n",
    "        print(\"-----------------------------------------\")\n",
    "        print(\"Billing Amount         :\",int(u_prod_qn)*int(prod_details[2]))\n",
    "        print(\"-----------------------------------------\")\n",
    "        \n",
    "        prod_details[3]=str(int(prod_details[3])-int(u_prod_qn))\n",
    "    updated_prod_list.append(prod_details)\n",
    "    \n",
    "lst=[]\n",
    "for i in updated_prod_list:\n",
    "    prod=i[0]+\",\"+i[1]+\",\"+i[2]+\",\"+i[3]+'\\n'\n",
    "    lst.append(prod)\n",
    "    \n",
    "lst[-1]=lst[-1][:-1]\n",
    "    \n",
    "fd=open(\"Inv.txt\",'w')\n",
    "for i in lst:\n",
    "    fd.write(i)\n",
    "\n",
    "fd.close()\n"
   ]
  },
  {
   "cell_type": "markdown",
   "id": "44a4df06",
   "metadata": {},
   "source": [
    "## but what if the quantity the user need is greater than what we have then in this case we will tell user the quan we have and ask him to full all of them if he accepts then we will make out inv of that item to 0\n",
    "\n"
   ]
  },
  {
   "cell_type": "code",
   "execution_count": 46,
   "id": "bafb30e6",
   "metadata": {},
   "outputs": [
    {
     "name": "stdout",
     "output_type": "stream",
     "text": [
      "Enter the product id: 4\n",
      "Enter the Quantity  : 50\n",
      "-----------------------------------------\n",
      "Product Name           : Candy\n",
      "Product Price          : 1\n",
      "Product Quantity       : 50\n",
      "-----------------------------------------\n",
      "Billing Amount         : 50\n",
      "-----------------------------------------\n",
      "-----------------------------------------\n",
      "Inventory Updated Successfully...\n"
     ]
    }
   ],
   "source": [
    "fd=open(\"Inv.txt\",'r')\n",
    "products=fd.read().split(\"\\n\")\n",
    "fd.close()\n",
    "\n",
    "u_prod_id=input(\"Enter the product id: \")\n",
    "u_prod_qn=input(\"Enter the Quantity  : \")\n",
    "updated_prod_list=[]\n",
    "\n",
    "for product in products:\n",
    "    \n",
    "    prod_details=product.split(\",\")\n",
    "    \n",
    "    if (prod_details[0]==u_prod_id):\n",
    "        \n",
    "        if int(u_prod_qn) <= int(prod_details[3]):\n",
    "            print(\"-----------------------------------------\")\n",
    "            print(\"Product Name           :\",prod_details[1])\n",
    "            print(\"Product Price          :\",prod_details[2])\n",
    "            print(\"Product Quantity       :\",u_prod_qn)\n",
    "            print(\"-----------------------------------------\")\n",
    "            print(\"Billing Amount         :\",int(u_prod_qn)*int(prod_details[2]))\n",
    "            print(\"-----------------------------------------\")\n",
    "\n",
    "            prod_details[3]=str(int(prod_details[3])-int(u_prod_qn))\n",
    "            \n",
    "        else:\n",
    "            print(\"Sorry! we are out of quantity...\")\n",
    "            print(\"we are only having \",prod_details[3],\" of product.\")\n",
    "            print(\"Would you like to purchase it ?\")\n",
    "            ch=input(\"Press Y/N :\")\n",
    "            \n",
    "            if ch=='Y' or ch=='y':\n",
    "                print(\"-----------------------------------------\")\n",
    "                print(\"Product Name           :\",prod_details[1])\n",
    "                print(\"Product Price          :\",prod_details[2])\n",
    "                print(\"Product Quantity       :\",prod_details[3])\n",
    "                print(\"-----------------------------------------\")\n",
    "                print(\"Billing Amount         :\",int(prod_details[3])*int(prod_details[2]))\n",
    "                print(\"-----------------------------------------\")\n",
    "\n",
    "                prod_details[3]='0'\n",
    "            else:\n",
    "                print(\"Thanks for coming....\")\n",
    "                \n",
    "    updated_prod_list.append(prod_details)\n",
    "        \n",
    "    \n",
    "lst=[]\n",
    "for i in updated_prod_list:\n",
    "    prod=i[0]+\",\"+i[1]+\",\"+i[2]+\",\"+i[3]+'\\n'\n",
    "    lst.append(prod)\n",
    "    \n",
    "lst[-1]=lst[-1][:-1]\n",
    "    \n",
    "fd=open(\"Inv.txt\",'w')\n",
    "for i in lst:\n",
    "    fd.write(i)\n",
    "\n",
    "fd.close()\n",
    "\n",
    "print(\"-----------------------------------------\")\n",
    "print(\"Inventory Updated Successfully...\")"
   ]
  },
  {
   "cell_type": "markdown",
   "id": "a90a7fed",
   "metadata": {},
   "source": [
    "## Now our task is to add the user details when any transaction has occured..\n"
   ]
  },
  {
   "cell_type": "code",
   "execution_count": 3,
   "id": "538a0239",
   "metadata": {},
   "outputs": [
    {
     "name": "stdout",
     "output_type": "stream",
     "text": [
      "Enter Your Name : bvfudcsc\n",
      "Enter Your Phone Number : sfcdscvs\n",
      "Enter Your Email Id : ddsvc\n",
      "Enter the product id : 2\n",
      "Enter the Quantity : 100\n",
      "-----------------------------------------\n",
      "Product Name           : Milky Bar\n",
      "Product Price          : 5\n",
      "Product Quantity       : 100\n",
      "-----------------------------------------\n",
      "Billing Amount         : 500\n",
      "-----------------------------------------\n",
      "-----------------------------------------\n",
      "Inventory Updated Successfully...\n"
     ]
    }
   ],
   "source": [
    "import time\n",
    "\n",
    "#Reading the stock inventory\n",
    "fd=open(\"Inv.txt\",'r')\n",
    "products=fd.read().split(\"\\n\")\n",
    "fd.close()\n",
    "\n",
    "#Taking user credentials\n",
    "\n",
    "u_uname=input(\"Enter Your Name : \")\n",
    "u_phone=input(\"Enter Your Phone Number : \")\n",
    "u_mail=input(\"Enter Your Email Id : \")\n",
    "u_prod_id=input(\"Enter the product id : \")\n",
    "u_prod_qn=input(\"Enter the Quantity : \")\n",
    "updated_prod_list=[]\n",
    "\n",
    "#Going through each product detail\n",
    "for product in products:\n",
    "    \n",
    "    prod_details=product.split(\",\")\n",
    "    \n",
    "    #cheking if product exits or not\n",
    "    if (prod_details[0]==u_prod_id):\n",
    "        \n",
    "        #whether we have enough quantity or not\n",
    "        if int(u_prod_qn) <= int(prod_details[3]):\n",
    "            print(\"-----------------------------------------\")\n",
    "            print(\"Product Name           :\",prod_details[1])\n",
    "            print(\"Product Price          :\",prod_details[2])\n",
    "            print(\"Product Quantity       :\",u_prod_qn)\n",
    "            print(\"-----------------------------------------\")\n",
    "            print(\"Billing Amount         :\",int(u_prod_qn)*int(prod_details[2]))\n",
    "            print(\"-----------------------------------------\")\n",
    "            \n",
    "            #updating inventory..\n",
    "            prod_details[3]=str(int(prod_details[3])-int(u_prod_qn))\n",
    "            \n",
    "            #adding data of sales in sales.txt\n",
    "            \n",
    "            fd=open(\"Sales.txt\",'a')\n",
    "            sales_details = u_uname+\",\"+u_phone+\",\"+u_mail+\",\"+u_prod_id+\",\"+prod_details[1]+\",\"+prod_details[2]+\",\"+u_prod_qn+\",\"+str(int(u_prod_qn)*int(prod_details[2]))+\",\"+time.ctime()+\"\\n\"\n",
    "            fd.write(sales_details)\n",
    "            fd.close()\n",
    "            \n",
    "        #if we have less quantity\n",
    "        else:\n",
    "            print(\"Sorry! we are out of quantity...\")\n",
    "            print(\"we are only having \",prod_details[3],\" of product.\")\n",
    "            print(\"Would you like to purchase it ?\")\n",
    "            ch=input(\"Press Y/N :\")\n",
    "            \n",
    "            #if you want to purchase with remaining quantity or not..\n",
    "            \n",
    "            if ch=='Y' or ch=='y':\n",
    "                print(\"-----------------------------------------\")\n",
    "                print(\"Product Name           :\",prod_details[1])\n",
    "                print(\"Product Price          :\",prod_details[2])\n",
    "                print(\"Product Quantity       :\",prod_details[3])\n",
    "                print(\"-----------------------------------------\")\n",
    "                print(\"Billing Amount         :\",int(prod_details[3])*int(prod_details[2]))\n",
    "                print(\"-----------------------------------------\")\n",
    "                \n",
    "                #updating inventory to 0\n",
    "                prod_details[3]='0'\n",
    "                \n",
    "                #adding sales info to sales.txt\n",
    "                fd=open(\"Sales.txt\",'a')\n",
    "                sales_details = u_uname+\",\"+u_phone+\",\"+u_mail+\",\"+u_prod_id+\",\"+prod_details[1]+\",\"+prod_details[2]+\",\"+prod_details[3]+\",\"+str(int(prod_details[3])*int(prod_details[2]))+\",\"+time.ctime()+\"\\n\"\n",
    "                fd.write(sales_details)\n",
    "                fd.close()\n",
    "                \n",
    "            #if user doesn't purchases\n",
    "            else:\n",
    "                print(\"Thanks for coming....\")\n",
    "    \n",
    "    #updating my inventory list\n",
    "    updated_prod_list.append(prod_details)\n",
    "        \n",
    "\n",
    "\n",
    "lst=[]\n",
    "#updating my inventory string..\n",
    "for i in updated_prod_list:\n",
    "    prod=i[0]+\",\"+i[1]+\",\"+i[2]+\",\"+i[3]+'\\n'\n",
    "    lst.append(prod)\n",
    "    \n",
    "#removing new line from my updated inventory    \n",
    "lst[-1]=lst[-1][:-1]\n",
    "\n",
    "#updating Inventory file with new data\n",
    "fd=open(\"Inv.txt\",'w')\n",
    "for i in lst:\n",
    "    fd.write(i)\n",
    "\n",
    "fd.close()\n",
    "\n",
    "print(\"-----------------------------------------\")\n",
    "print(\"Inventory Updated Successfully...\")"
   ]
  },
  {
   "cell_type": "code",
   "execution_count": 4,
   "id": "f180378e",
   "metadata": {},
   "outputs": [
    {
     "name": "stdout",
     "output_type": "stream",
     "text": [
      "1,5 star,5,0\n",
      "2,Milky Bar,5,0\n",
      "3,Cake,300,5\n",
      "4,Candy,1,200\n"
     ]
    }
   ],
   "source": [
    "fd=open(\"Inv.txt\")\n",
    "print(fd.read())"
   ]
  },
  {
   "cell_type": "code",
   "execution_count": null,
   "id": "dbb43568",
   "metadata": {},
   "outputs": [],
   "source": []
  }
 ],
 "metadata": {
  "kernelspec": {
   "display_name": "Python 3 (ipykernel)",
   "language": "python",
   "name": "python3"
  },
  "language_info": {
   "codemirror_mode": {
    "name": "ipython",
    "version": 3
   },
   "file_extension": ".py",
   "mimetype": "text/x-python",
   "name": "python",
   "nbconvert_exporter": "python",
   "pygments_lexer": "ipython3",
   "version": "3.9.7"
  }
 },
 "nbformat": 4,
 "nbformat_minor": 5
}
